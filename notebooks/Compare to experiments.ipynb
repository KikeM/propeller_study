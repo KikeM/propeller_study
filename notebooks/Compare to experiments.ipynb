{
 "cells": [
  {
   "cell_type": "code",
   "execution_count": 20,
   "metadata": {},
   "outputs": [],
   "source": [
    "from pathlib import Path\n",
    "from functools import partial\n",
    "\n",
    "import pybem as pb\n",
    "import numpy as np\n",
    "import pandas as pd"
   ]
  },
  {
   "cell_type": "code",
   "execution_count": 17,
   "metadata": {},
   "outputs": [],
   "source": [
    "PATH_POLARS = Path(\"../polars\")"
   ]
  },
  {
   "cell_type": "code",
   "execution_count": 29,
   "metadata": {},
   "outputs": [],
   "source": [
    "csv_reader = partial(pd.read_csv, sep=\";\", index_col=None)\n",
    "\n",
    "\n",
    "def load_polar(airfoil_type, which=\"cl\"):\n",
    "    \"\"\"Loads the airfoil polars\n",
    "    \n",
    "    Parameters\n",
    "    ----------\n",
    "    airfoil_type : str\n",
    "    which : str\n",
    "        \"cl\" or \"cd\"\n",
    "    \n",
    "    Returns\n",
    "    -------\n",
    "    np.array N x 2\n",
    "    \"\"\"\n",
    "\n",
    "    _path_lift = PATH_POLARS / airfoil_type / \"lift.csv\"\n",
    "    _path_drag = PATH_POLARS / airfoil_type / \"drag.csv\"\n",
    "\n",
    "    polar_cl = csv_reader(_path_lift).values\n",
    "    polar_cd = csv_reader(_path_drag).values\n",
    "\n",
    "    polars = {\"cl\": polar_cl, \"cd\": polar_cd}\n",
    "\n",
    "    return polars[which]"
   ]
  },
  {
   "cell_type": "code",
   "execution_count": 26,
   "metadata": {},
   "outputs": [],
   "source": [
    "# Define known sections\n",
    "sections = [\n",
    "    pb.Section(\n",
    "        name=\"Hub\",\n",
    "        r=0.3,\n",
    "        beta=60,\n",
    "        chord=0.4,\n",
    "        airfoil=pb.Airfoil(\n",
    "            polar_cl=load_polar(airfoil_type=\"765\", which=\"cl\"),\n",
    "            polar_cd=load_polar(airfoil_type=\"765\", which=\"cd\"),\n",
    "        ),\n",
    "    ),\n",
    "    pb.Section(\n",
    "        name=\"Station 0\",\n",
    "        r=0.3,\n",
    "        beta=60,\n",
    "        chord=0.4,\n",
    "        airfoil=pb.Airfoil(\n",
    "            polar_cl=load_polar(airfoil_type=\"765\", which=\"cl\"),\n",
    "            polar_cd=load_polar(airfoil_type=\"765\", which=\"cd\"),\n",
    "        ),\n",
    "    ),\n",
    "    pb.Section(\n",
    "        name=\"Station 1\",\n",
    "        r=0.6,\n",
    "        beta=45,\n",
    "        chord=0.35,\n",
    "        airfoil=pb.Airfoil(\n",
    "            polar_cl=load_polar(airfoil_type=\"764\", which=\"cl\"),\n",
    "            polar_cd=load_polar(airfoil_type=\"764\", which=\"cd\"),\n",
    "        ),\n",
    "    ),\n",
    "    pb.Section(\n",
    "        name=\"Station 2\",\n",
    "        r=0.6,\n",
    "        beta=45,\n",
    "        chord=0.35,\n",
    "        airfoil=pb.Airfoil(\n",
    "            polar_cl=load_polar(airfoil_type=\"763\", which=\"cl\"),\n",
    "            polar_cd=load_polar(airfoil_type=\"763\", which=\"cd\"),\n",
    "        ),\n",
    "    ),\n",
    "    pb.Section(\n",
    "        name=\"Tip\",\n",
    "        r=1.2,\n",
    "        beta=30,\n",
    "        chord=0.2,\n",
    "        airfoil=pb.Airfoil(\n",
    "            polar_cl=load_polar(airfoil_type=\"762\", which=\"cl\"),\n",
    "            polar_cd=load_polar(airfoil_type=\"762\", which=\"cd\"),\n",
    "        ),\n",
    "    ),\n",
    "]\n",
    "\n",
    "# Define propeller\n",
    "B = 6\n",
    "propeller = pb.Propeller(B=B, sections=sections)\n",
    "\n",
    "# Define flow conditions and BEM method\n",
    "J = 0.2\n",
    "bem = pb.BladeElementMethod(J=J, propeller=propeller, tip_loss=False, hub_loss=False)\n",
    "\n",
    "# Solve\n",
    "bem.solve()\n",
    "\n",
    "# Compute forces\n",
    "CT, CQ = bem.integrate_forces()"
   ]
  },
  {
   "cell_type": "code",
   "execution_count": null,
   "metadata": {},
   "outputs": [],
   "source": []
  }
 ],
 "metadata": {
  "kernelspec": {
   "display_name": "Python 3",
   "language": "python",
   "name": "python3"
  },
  "language_info": {
   "codemirror_mode": {
    "name": "ipython",
    "version": 3
   },
   "file_extension": ".py",
   "mimetype": "text/x-python",
   "name": "python",
   "nbconvert_exporter": "python",
   "pygments_lexer": "ipython3",
   "version": "3.8.5"
  },
  "latex_envs": {
   "LaTeX_envs_menu_present": true,
   "autoclose": false,
   "autocomplete": true,
   "bibliofile": "biblio.bib",
   "cite_by": "apalike",
   "current_citInitial": 1,
   "eqLabelWithNumbers": true,
   "eqNumInitial": 1,
   "hotkeys": {
    "equation": "Ctrl-E",
    "itemize": "Ctrl-I"
   },
   "labels_anchors": false,
   "latex_user_defs": false,
   "report_style_numbering": false,
   "user_envs_cfg": false
  },
  "toc": {
   "base_numbering": 1,
   "nav_menu": {},
   "number_sections": true,
   "sideBar": true,
   "skip_h1_title": false,
   "title_cell": "Table of Contents",
   "title_sidebar": "Contents",
   "toc_cell": false,
   "toc_position": {},
   "toc_section_display": true,
   "toc_window_display": false
  },
  "varInspector": {
   "cols": {
    "lenName": 16,
    "lenType": 16,
    "lenVar": 40
   },
   "kernels_config": {
    "python": {
     "delete_cmd_postfix": "",
     "delete_cmd_prefix": "del ",
     "library": "var_list.py",
     "varRefreshCmd": "print(var_dic_list())"
    },
    "r": {
     "delete_cmd_postfix": ") ",
     "delete_cmd_prefix": "rm(",
     "library": "var_list.r",
     "varRefreshCmd": "cat(var_dic_list()) "
    }
   },
   "types_to_exclude": [
    "module",
    "function",
    "builtin_function_or_method",
    "instance",
    "_Feature"
   ],
   "window_display": false
  }
 },
 "nbformat": 4,
 "nbformat_minor": 4
}
