{
 "cells": [
  {
   "cell_type": "code",
   "execution_count": 1,
   "metadata": {},
   "outputs": [],
   "source": [
    "from pathlib import Path\n",
    "from functools import partial\n",
    "\n",
    "from utils import load_polar\n",
    "\n",
    "import pybem as pb\n",
    "import numpy as np\n",
    "import pandas as pd"
   ]
  },
  {
   "cell_type": "markdown",
   "metadata": {},
   "source": [
    "Inputs"
   ]
  },
  {
   "cell_type": "code",
   "execution_count": 2,
   "metadata": {},
   "outputs": [],
   "source": [
    "PATH_POLARS = Path(\"../polars\")\n",
    "file_lift = \"lift.csv\"\n",
    "file_drag = \"drag.csv\"\n",
    "file_propeller = PATH_POLARS / \"propeller1_inches.txt\"\n",
    "\n",
    "PITCH = 32.4  # inches"
   ]
  },
  {
   "cell_type": "code",
   "execution_count": 3,
   "metadata": {},
   "outputs": [],
   "source": [
    "INCH_METER = 0.0254\n",
    "PITCH = INCH_METER * PITCH # meters"
   ]
  },
  {
   "cell_type": "code",
   "execution_count": 4,
   "metadata": {},
   "outputs": [],
   "source": [
    "csv_reader = partial(pd.read_csv, sep=\";\", index_col=None)\n",
    "load_polar = partial(\n",
    "    load_polar,\n",
    "    path=PATH_POLARS,\n",
    "    file_lift=file_lift,\n",
    "    file_drag=file_drag,\n",
    "    reader=csv_reader,\n",
    ")"
   ]
  },
  {
   "cell_type": "markdown",
   "metadata": {},
   "source": [
    "![Blade angle definition](figures/pitch_definition.png)"
   ]
  },
  {
   "cell_type": "code",
   "execution_count": 5,
   "metadata": {},
   "outputs": [
    {
     "data": {
      "text/html": [
       "<div>\n",
       "<style scoped>\n",
       "    .dataframe tbody tr th:only-of-type {\n",
       "        vertical-align: middle;\n",
       "    }\n",
       "\n",
       "    .dataframe tbody tr th {\n",
       "        vertical-align: top;\n",
       "    }\n",
       "\n",
       "    .dataframe thead th {\n",
       "        text-align: right;\n",
       "    }\n",
       "</style>\n",
       "<table border=\"1\" class=\"dataframe\">\n",
       "  <thead>\n",
       "    <tr style=\"text-align: right;\">\n",
       "      <th></th>\n",
       "      <th>radius</th>\n",
       "      <th>chord</th>\n",
       "      <th>theta</th>\n",
       "    </tr>\n",
       "  </thead>\n",
       "  <tbody>\n",
       "    <tr>\n",
       "      <th>Hub</th>\n",
       "      <td>0.1016</td>\n",
       "      <td>0.06223</td>\n",
       "      <td>52.199199</td>\n",
       "    </tr>\n",
       "    <tr>\n",
       "      <th>S1</th>\n",
       "      <td>0.1778</td>\n",
       "      <td>0.06858</td>\n",
       "      <td>36.377590</td>\n",
       "    </tr>\n",
       "    <tr>\n",
       "      <th>S2</th>\n",
       "      <td>0.2540</td>\n",
       "      <td>0.06858</td>\n",
       "      <td>27.278439</td>\n",
       "    </tr>\n",
       "    <tr>\n",
       "      <th>S3</th>\n",
       "      <td>0.3302</td>\n",
       "      <td>0.06858</td>\n",
       "      <td>21.636400</td>\n",
       "    </tr>\n",
       "    <tr>\n",
       "      <th>S4</th>\n",
       "      <td>0.4064</td>\n",
       "      <td>0.06858</td>\n",
       "      <td>17.863548</td>\n",
       "    </tr>\n",
       "    <tr>\n",
       "      <th>Tip</th>\n",
       "      <td>0.4572</td>\n",
       "      <td>0.06858</td>\n",
       "      <td>15.985890</td>\n",
       "    </tr>\n",
       "  </tbody>\n",
       "</table>\n",
       "</div>"
      ],
      "text/plain": [
       "     radius    chord      theta\n",
       "Hub  0.1016  0.06223  52.199199\n",
       "S1   0.1778  0.06858  36.377590\n",
       "S2   0.2540  0.06858  27.278439\n",
       "S3   0.3302  0.06858  21.636400\n",
       "S4   0.4064  0.06858  17.863548\n",
       "Tip  0.4572  0.06858  15.985890"
      ]
     },
     "execution_count": 5,
     "metadata": {},
     "output_type": "execute_result"
    }
   ],
   "source": [
    "dimensions_df = pd.read_csv(filepath_or_buffer=file_propeller, sep=\",\")\n",
    "\n",
    "# Enforce stripped columns\n",
    "dimensions_df.columns = [col.strip() for col in dimensions_df.columns]\n",
    "dimensions_df = dimensions_df[[\"radius\", \"chord\"]]\n",
    "\n",
    "# Convert to international units\n",
    "INCH_METER = 0.0254\n",
    "dimensions_df = dimensions_df.mul(INCH_METER)\n",
    "\n",
    "# Name\n",
    "dimensions_df.index = [\"Hub\", \"S1\", \"S2\", \"S3\", \"S4\", \"Tip\"]\n",
    "\n",
    "for idx, row in dimensions_df.iterrows():\n",
    "\n",
    "    r = row[\"radius\"]\n",
    "\n",
    "    tan_theta = PITCH / (2.0 * np.pi * r)\n",
    "    theta = np.arctan(tan_theta)  # radians\n",
    "    theta = np.rad2deg(theta)  # degrees\n",
    "\n",
    "    dimensions_df.loc[idx, \"theta\"] = theta\n",
    "\n",
    "dimensions_df"
   ]
  },
  {
   "cell_type": "code",
   "execution_count": 51,
   "metadata": {},
   "outputs": [
    {
     "data": {
      "text/plain": [
       "array([<AxesSubplot:xlabel='radius'>, <AxesSubplot:xlabel='radius'>],\n",
       "      dtype=object)"
      ]
     },
     "execution_count": 51,
     "metadata": {},
     "output_type": "execute_result"
    },
    {
     "data": {
      "image/png": "[encoded data removed]",
      "text/plain": [
       "<Figure size 432x288 with 2 Axes>"
      ]
     },
     "metadata": {
      "needs_background": "light"
     },
     "output_type": "display_data"
    }
   ],
   "source": [
    "dimensions_df.set_index('radius').plot(subplots=True)"
   ]
  },
  {
   "cell_type": "markdown",
   "metadata": {},
   "source": [
    "Create the blade by defining the sections at each stage. "
   ]
  },
  {
   "cell_type": "code",
   "execution_count": 6,
   "metadata": {},
   "outputs": [],
   "source": [
    "# Define known sections\n",
    "sections = [\n",
    "    pb.Section(\n",
    "        name=\"Hub\",\n",
    "        r=dimensions_df.loc[\"Hub\", \"radius\"],\n",
    "        beta=dimensions_df.loc[\"Hub\", \"theta\"],\n",
    "        chord=dimensions_df.loc[\"Hub\", \"chord\"],\n",
    "        airfoil=pb.Airfoil(\n",
    "            polar_cl=load_polar(airfoil_type=\"765\", which=\"cl\"),\n",
    "            polar_cd=load_polar(airfoil_type=\"765\", which=\"cd\"),\n",
    "        ),\n",
    "    ),\n",
    "    pb.Section(\n",
    "        name=\"S1\",\n",
    "        r=dimensions_df.loc[\"S1\", \"radius\"],\n",
    "        beta=dimensions_df.loc[\"S1\", \"theta\"],\n",
    "        chord=dimensions_df.loc[\"S1\", \"chord\"],\n",
    "        airfoil=pb.Airfoil(\n",
    "            polar_cl=load_polar(airfoil_type=\"765\", which=\"cl\"),\n",
    "            polar_cd=load_polar(airfoil_type=\"765\", which=\"cd\"),\n",
    "        ),\n",
    "    ),\n",
    "    pb.Section(\n",
    "        name=\"S2\",\n",
    "        r=dimensions_df.loc[\"S2\", \"radius\"],\n",
    "        beta=dimensions_df.loc[\"S2\", \"theta\"],\n",
    "        chord=dimensions_df.loc[\"S2\", \"chord\"],\n",
    "        airfoil=pb.Airfoil(\n",
    "            polar_cl=load_polar(airfoil_type=\"764\", which=\"cl\"),\n",
    "            polar_cd=load_polar(airfoil_type=\"764\", which=\"cd\"),\n",
    "        ),\n",
    "    ),\n",
    "    pb.Section(\n",
    "        name=\"S3\",\n",
    "        r=dimensions_df.loc[\"S3\", \"radius\"],\n",
    "        beta=dimensions_df.loc[\"S3\", \"theta\"],\n",
    "        chord=dimensions_df.loc[\"S3\", \"chord\"],\n",
    "        airfoil=pb.Airfoil(\n",
    "            polar_cl=load_polar(airfoil_type=\"763\", which=\"cl\"),\n",
    "            polar_cd=load_polar(airfoil_type=\"763\", which=\"cd\"),\n",
    "        ),\n",
    "    ),\n",
    "    pb.Section(\n",
    "        name=\"S4\",\n",
    "        r=dimensions_df.loc[\"S4\", \"radius\"],\n",
    "        beta=dimensions_df.loc[\"S4\", \"theta\"],\n",
    "        chord=dimensions_df.loc[\"S4\", \"chord\"],\n",
    "        airfoil=pb.Airfoil(\n",
    "            polar_cl=load_polar(airfoil_type=\"762\", which=\"cl\"),\n",
    "            polar_cd=load_polar(airfoil_type=\"762\", which=\"cd\"),\n",
    "        ),\n",
    "    ),\n",
    "    pb.Section(\n",
    "        name=\"Tip\",\n",
    "        r=dimensions_df.loc[\"Tip\", \"radius\"],\n",
    "        beta=dimensions_df.loc[\"Tip\", \"theta\"],\n",
    "        chord=dimensions_df.loc[\"Tip\", \"chord\"],\n",
    "        airfoil=pb.Airfoil(\n",
    "            polar_cl=load_polar(airfoil_type=\"762\", which=\"cl\"),\n",
    "            polar_cd=load_polar(airfoil_type=\"762\", which=\"cd\"),\n",
    "        ),\n",
    "    ),\n",
    "]"
   ]
  },
  {
   "cell_type": "code",
   "execution_count": 62,
   "metadata": {},
   "outputs": [
    {
     "name": "stderr",
     "output_type": "stream",
     "text": [
      "/opt/anaconda3/envs/pybem/lib/python3.8/site-packages/scipy/optimize/nonlin.py:472: RuntimeWarning: invalid value encountered in double_scalars\n",
      "  and dx_norm/self.x_rtol <= x_norm))\n"
     ]
    }
   ],
   "source": [
    "# Define propeller\n",
    "B = 4\n",
    "propeller = pb.Propeller(B=B, sections=sections)\n",
    "\n",
    "# Define flow conditions and BEM method\n",
    "\n",
    "results = []\n",
    "for J in np.linspace(1e-1, 1.5):\n",
    "\n",
    "    pi = np.pi\n",
    "\n",
    "    _lambda = J / pi\n",
    "\n",
    "    bem = pb.BladeElementMethod(\n",
    "        _lambda=_lambda, propeller=propeller, tip_loss=True, hub_loss=False\n",
    "    )\n",
    "\n",
    "    try:\n",
    "        # Solve\n",
    "        bem.solve()\n",
    "        CT, CQ = bem.integrate_forces()\n",
    "    except:\n",
    "        CT = np.nan\n",
    "        CQ = np.nan\n",
    "\n",
    "    results.append(\n",
    "        (J, CT * (pi ** 3.0) / 4 / J**2.0, CQ * (pi ** 4.0) / 4 / J**2.0, _lambda * CT / CQ)\n",
    "    )"
   ]
  },
  {
   "cell_type": "code",
   "execution_count": 63,
   "metadata": {},
   "outputs": [],
   "source": [
    "results_df = (\n",
    "    pd.DataFrame(results, columns=[\"J\", \"10.CT\", \"10.CP\", \"$\\eta$\"])\n",
    "    .dropna()\n",
    "    .set_index(\"J\")\n",
    ")"
   ]
  },
  {
   "cell_type": "code",
   "execution_count": 64,
   "metadata": {},
   "outputs": [
    {
     "data": {
      "text/html": [
       "<div>\n",
       "<style scoped>\n",
       "    .dataframe tbody tr th:only-of-type {\n",
       "        vertical-align: middle;\n",
       "    }\n",
       "\n",
       "    .dataframe tbody tr th {\n",
       "        vertical-align: top;\n",
       "    }\n",
       "\n",
       "    .dataframe thead th {\n",
       "        text-align: right;\n",
       "    }\n",
       "</style>\n",
       "<table border=\"1\" class=\"dataframe\">\n",
       "  <thead>\n",
       "    <tr style=\"text-align: right;\">\n",
       "      <th></th>\n",
       "      <th>10.CT</th>\n",
       "      <th>10.CP</th>\n",
       "      <th>$\\eta$</th>\n",
       "    </tr>\n",
       "    <tr>\n",
       "      <th>J</th>\n",
       "      <th></th>\n",
       "      <th></th>\n",
       "      <th></th>\n",
       "    </tr>\n",
       "  </thead>\n",
       "  <tbody>\n",
       "    <tr>\n",
       "      <th>0.414286</th>\n",
       "      <td>0.568470</td>\n",
       "      <td>0.423644</td>\n",
       "      <td>0.555913</td>\n",
       "    </tr>\n",
       "    <tr>\n",
       "      <th>0.442857</th>\n",
       "      <td>0.483265</td>\n",
       "      <td>0.368450</td>\n",
       "      <td>0.580859</td>\n",
       "    </tr>\n",
       "    <tr>\n",
       "      <th>0.471429</th>\n",
       "      <td>0.413385</td>\n",
       "      <td>0.322581</td>\n",
       "      <td>0.604133</td>\n",
       "    </tr>\n",
       "    <tr>\n",
       "      <th>0.500000</th>\n",
       "      <td>0.355805</td>\n",
       "      <td>0.284285</td>\n",
       "      <td>0.625790</td>\n",
       "    </tr>\n",
       "    <tr>\n",
       "      <th>0.528571</th>\n",
       "      <td>0.307841</td>\n",
       "      <td>0.251878</td>\n",
       "      <td>0.646011</td>\n",
       "    </tr>\n",
       "    <tr>\n",
       "      <th>0.557143</th>\n",
       "      <td>0.267307</td>\n",
       "      <td>0.224042</td>\n",
       "      <td>0.664734</td>\n",
       "    </tr>\n",
       "    <tr>\n",
       "      <th>0.585714</th>\n",
       "      <td>0.232866</td>\n",
       "      <td>0.199901</td>\n",
       "      <td>0.682300</td>\n",
       "    </tr>\n",
       "    <tr>\n",
       "      <th>0.614286</th>\n",
       "      <td>0.203137</td>\n",
       "      <td>0.178659</td>\n",
       "      <td>0.698446</td>\n",
       "    </tr>\n",
       "    <tr>\n",
       "      <th>0.642857</th>\n",
       "      <td>0.177384</td>\n",
       "      <td>0.159910</td>\n",
       "      <td>0.713106</td>\n",
       "    </tr>\n",
       "    <tr>\n",
       "      <th>0.671429</th>\n",
       "      <td>0.155268</td>\n",
       "      <td>0.143492</td>\n",
       "      <td>0.726531</td>\n",
       "    </tr>\n",
       "    <tr>\n",
       "      <th>0.700000</th>\n",
       "      <td>0.136035</td>\n",
       "      <td>0.128908</td>\n",
       "      <td>0.738702</td>\n",
       "    </tr>\n",
       "    <tr>\n",
       "      <th>0.728571</th>\n",
       "      <td>0.118955</td>\n",
       "      <td>0.115664</td>\n",
       "      <td>0.749306</td>\n",
       "    </tr>\n",
       "    <tr>\n",
       "      <th>0.842857</th>\n",
       "      <td>0.068152</td>\n",
       "      <td>0.074593</td>\n",
       "      <td>0.770078</td>\n",
       "    </tr>\n",
       "    <tr>\n",
       "      <th>0.871429</th>\n",
       "      <td>0.058994</td>\n",
       "      <td>0.066852</td>\n",
       "      <td>0.768999</td>\n",
       "    </tr>\n",
       "    <tr>\n",
       "      <th>0.900000</th>\n",
       "      <td>0.050785</td>\n",
       "      <td>0.059791</td>\n",
       "      <td>0.764444</td>\n",
       "    </tr>\n",
       "    <tr>\n",
       "      <th>0.928571</th>\n",
       "      <td>0.043227</td>\n",
       "      <td>0.053232</td>\n",
       "      <td>0.754049</td>\n",
       "    </tr>\n",
       "    <tr>\n",
       "      <th>0.957143</th>\n",
       "      <td>0.036104</td>\n",
       "      <td>0.047081</td>\n",
       "      <td>0.733985</td>\n",
       "    </tr>\n",
       "    <tr>\n",
       "      <th>0.985714</th>\n",
       "      <td>0.029618</td>\n",
       "      <td>0.041326</td>\n",
       "      <td>0.706465</td>\n",
       "    </tr>\n",
       "    <tr>\n",
       "      <th>1.014286</th>\n",
       "      <td>0.023931</td>\n",
       "      <td>0.036274</td>\n",
       "      <td>0.669162</td>\n",
       "    </tr>\n",
       "  </tbody>\n",
       "</table>\n",
       "</div>"
      ],
      "text/plain": [
       "             10.CT     10.CP    $\\eta$\n",
       "J                                     \n",
       "0.414286  0.568470  0.423644  0.555913\n",
       "0.442857  0.483265  0.368450  0.580859\n",
       "0.471429  0.413385  0.322581  0.604133\n",
       "0.500000  0.355805  0.284285  0.625790\n",
       "0.528571  0.307841  0.251878  0.646011\n",
       "0.557143  0.267307  0.224042  0.664734\n",
       "0.585714  0.232866  0.199901  0.682300\n",
       "0.614286  0.203137  0.178659  0.698446\n",
       "0.642857  0.177384  0.159910  0.713106\n",
       "0.671429  0.155268  0.143492  0.726531\n",
       "0.700000  0.136035  0.128908  0.738702\n",
       "0.728571  0.118955  0.115664  0.749306\n",
       "0.842857  0.068152  0.074593  0.770078\n",
       "0.871429  0.058994  0.066852  0.768999\n",
       "0.900000  0.050785  0.059791  0.764444\n",
       "0.928571  0.043227  0.053232  0.754049\n",
       "0.957143  0.036104  0.047081  0.733985\n",
       "0.985714  0.029618  0.041326  0.706465\n",
       "1.014286  0.023931  0.036274  0.669162"
      ]
     },
     "execution_count": 64,
     "metadata": {},
     "output_type": "execute_result"
    }
   ],
   "source": [
    "results_df"
   ]
  },
  {
   "cell_type": "code",
   "execution_count": 65,
   "metadata": {},
   "outputs": [],
   "source": [
    "import matplotlib.pyplot as plt"
   ]
  },
  {
   "cell_type": "code",
   "execution_count": 66,
   "metadata": {},
   "outputs": [
    {
     "data": {
      "image/png": "[encoded data removed]",
      "text/plain": [
       "<Figure size 432x288 with 1 Axes>"
      ]
     },
     "metadata": {
      "needs_background": "light"
     },
     "output_type": "display_data"
    }
   ],
   "source": [
    "ax = results_df.plot()\n",
    "ax.axis('tight');\n",
    "ax.grid(True)"
   ]
  },
  {
   "cell_type": "code",
   "execution_count": null,
   "metadata": {},
   "outputs": [],
   "source": []
  }
 ],
 "metadata": {
  "jupytext": {
   "formats": "ipynb,py:percent"
  },
  "kernelspec": {
   "display_name": "Python 3",
   "language": "python",
   "name": "python3"
  },
  "language_info": {
   "codemirror_mode": {
    "name": "ipython",
    "version": 3
   },
   "file_extension": ".py",
   "mimetype": "text/x-python",
   "name": "python",
   "nbconvert_exporter": "python",
   "pygments_lexer": "ipython3",
   "version": "3.8.5"
  },
  "latex_envs": {
   "LaTeX_envs_menu_present": true,
   "autoclose": false,
   "autocomplete": true,
   "bibliofile": "biblio.bib",
   "cite_by": "apalike",
   "current_citInitial": 1,
   "eqLabelWithNumbers": true,
   "eqNumInitial": 1,
   "hotkeys": {
    "equation": "Ctrl-E",
    "itemize": "Ctrl-I"
   },
   "labels_anchors": false,
   "latex_user_defs": false,
   "report_style_numbering": false,
   "user_envs_cfg": false
  },
  "toc": {
   "base_numbering": 1,
   "nav_menu": {},
   "number_sections": true,
   "sideBar": true,
   "skip_h1_title": false,
   "title_cell": "Table of Contents",
   "title_sidebar": "Contents",
   "toc_cell": false,
   "toc_position": {},
   "toc_section_display": true,
   "toc_window_display": false
  },
  "varInspector": {
   "cols": {
    "lenName": 16,
    "lenType": 16,
    "lenVar": 40
   },
   "kernels_config": {
    "python": {
     "delete_cmd_postfix": "",
     "delete_cmd_prefix": "del ",
     "library": "var_list.py",
     "varRefreshCmd": "print(var_dic_list())"
    },
    "r": {
     "delete_cmd_postfix": ") ",
     "delete_cmd_prefix": "rm(",
     "library": "var_list.r",
     "varRefreshCmd": "cat(var_dic_list()) "
    }
   },
   "types_to_exclude": [
    "module",
    "function",
    "builtin_function_or_method",
    "instance",
    "_Feature"
   ],
   "window_display": false
  }
 },
 "nbformat": 4,
 "nbformat_minor": 4
}
